{
 "cells": [
  {
   "cell_type": "code",
   "execution_count": 1,
   "metadata": {},
   "outputs": [],
   "source": [
    "import pandas as pd\n",
    "import numpy as np\n",
    "import matplotlib.pyplot as plt\n",
    "%matplotlib inline\n",
    "import keras\n",
    "from keras.models import Sequential\n",
    "from keras.layers import Dense, Conv2D, BatchNormalization, MaxPooling2D, Dropout, Flatten\n",
    "from sklearn.preprocessing import StandardScaler, LabelBinarizer\n",
    "import os\n",
    "import tensorflow as tf\n",
    "from keras import models\n",
    "from keras import layers\n",
    "import pathlib\n",
    "import PIL\n",
    "import seaborn as sns\n",
    "import time\n",
    "import scipy\n",
    "import numpy as np\n",
    "from PIL import Image\n",
    "from scipy import ndimage\n",
    "from sklearn.model_selection import train_test_split, cross_val_score\n",
    "from keras.preprocessing.image import ImageDataGenerator, array_to_img, img_to_array, load_img\n",
    "from sklearn.preprocessing import OneHotEncoder\n",
    "from sklearn.metrics import accuracy_score, confusion_matrix\n",
    "import matplotlib.pyplot as plt\n",
    "import matplotlib.image as mpimg\n",
    "import numpy as np\n",
    "import seaborn as sns\n",
    "from tensorflow.keras.models import Sequential\n",
    "from tensorflow.keras.regularizers import l2\n",
    "from tensorflow.keras.optimizers import SGD, Adam\n",
    "from tensorflow.keras.wrappers import scikit_learn\n",
    "from tensorflow.keras.callbacks import EarlyStopping\n",
    "import shutil\n",
    "import random\n",
    "import glob\n",
    "import sys\n",
    "import itertools\n",
    "import warnings\n",
    "import statistics"
   ]
  },
  {
   "cell_type": "code",
   "execution_count": 2,
   "metadata": {},
   "outputs": [],
   "source": [
    "# Define Result Saving Initial Function\n",
    "dfcols = ['model_name', 'Train Accuracy', 'Test Accuracy', 'CV1', 'CV2', 'CV3', 'CV4', 'CV5', 'CV_Std', 'CV_avg']\n",
    "model_summary = pd.DataFrame(columns=dfcols)\n",
    "\n",
    "\n",
    "def save_result(model_name, Train_Accuracy, Test_Accuracy, cv1, cv2, cv3, cv4, cv5):\n",
    "            global model_summary\n",
    "            cv_std = statistics.stdev([cv1, cv2, cv3, cv4, cv5])\n",
    "            cv_avg = (cv1 + cv2 + cv3 + cv4 + cv5) / 5\n",
    "            row = [(model_name, Train_Accuracy, Test_Accuracy, cv1, cv2, cv3, cv4, cv5, cv_std, cv_avg)]\n",
    "            res = pd.DataFrame(columns = dfcols, data = row)\n",
    "            yeep = [model_summary, res]\n",
    "            model_summary = pd.concat(yeep)\n",
    "            model_summary = model_summary.sort_values('CV_avg', ascending = False)\n",
    "            model_summary = model_summary.drop_duplicates()\n",
    "            return model_summary.round(3)"
   ]
  },
  {
   "cell_type": "code",
   "execution_count": 3,
   "metadata": {},
   "outputs": [
    {
     "name": "stdout",
     "output_type": "stream",
     "text": [
      " There are 3272 images in the training set, 1752 in the test set, and 816 in the validation set\n",
      "train norm is 883\n",
      "train pneum is 2390\n",
      "test norm: 473\n",
      "test pneum: 1280\n",
      "valid norm: 220\n",
      "valid pneum: 596\n"
     ]
    }
   ],
   "source": [
    "train_norm_size = len(os.listdir('re-split_data/train/normal'))\n",
    "train_pneum_size = len(os.listdir('re-split_data/train/pneumonia'))\n",
    "test_norm_size = len(os.listdir('re-split_data/test/normal'))\n",
    "test_pneum_size = len(os.listdir('re-split_data/test/pneumonia'))\n",
    "valid_norm_size = len(os.listdir('re-split_data/validation/normal'))\n",
    "valid_pneum_size = len(os.listdir('re-split_data/validation/pneumonia'))\n",
    "\n",
    "\n",
    "train_size = train_norm_size + train_pneum_size -1\n",
    "test_size = test_norm_size + test_pneum_size -1\n",
    "validation_size = valid_norm_size + valid_pneum_size\n",
    "\n",
    "print(f' There are {train_size} images in the training set, {test_size} in the test set, and {validation_size} in the validation set')\n",
    "\n",
    "print(f'train norm is {train_norm_size}')\n",
    "print(f'train pneum is {train_pneum_size}')\n",
    "print(f'test norm: {test_norm_size}')\n",
    "print(f'test pneum: {test_pneum_size}')\n",
    "print(f'valid norm: {valid_norm_size}')\n",
    "print(f'valid pneum: {valid_pneum_size}')\n"
   ]
  },
  {
   "cell_type": "code",
   "execution_count": 4,
   "metadata": {},
   "outputs": [],
   "source": [
    "train_path = 're-split_data/train'\n",
    "valid_path = 're-split_data/validation'\n",
    "test_path = 're-split_data/test'"
   ]
  },
  {
   "cell_type": "code",
   "execution_count": 5,
   "metadata": {},
   "outputs": [
    {
     "name": "stdout",
     "output_type": "stream",
     "text": [
      "Found 3272 images belonging to 2 classes.\n",
      "Found 816 images belonging to 2 classes.\n",
      "Found 1752 images belonging to 2 classes.\n"
     ]
    }
   ],
   "source": [
    "train_batches = ImageDataGenerator(preprocessing_function=tf.keras.applications.vgg16.preprocess_input) \\\n",
    "    .flow_from_directory(directory=train_path, target_size=(224, 224), batch_size=32)\n",
    "valid_batches = ImageDataGenerator(preprocessing_function=tf.keras.applications.vgg16.preprocess_input) \\\n",
    "    .flow_from_directory(directory=valid_path, target_size=(224, 224),  batch_size=32)\n",
    "test_batches = ImageDataGenerator(preprocessing_function=tf.keras.applications.vgg16.preprocess_input) \\\n",
    "    .flow_from_directory(directory=test_path, target_size=(224, 224),  batch_size=32, shuffle=False)"
   ]
  },
  {
   "cell_type": "code",
   "execution_count": 6,
   "metadata": {},
   "outputs": [
    {
     "name": "stdout",
     "output_type": "stream",
     "text": [
      "(32, 150528)\n",
      "(32, 150528)\n",
      "(32, 150528)\n"
     ]
    }
   ],
   "source": [
    "# create the data sets\n",
    "\n",
    "train_images2, train_labels2 = next(train_batches)\n",
    "test_images2, test_labels2 = next(test_batches)\n",
    "valid_images2, valid_labels2 = next(valid_batches)\n",
    "\n",
    "train_img2 = train_images2.reshape(train_images2.shape[0], -1)\n",
    "test_img2 = test_images2.reshape(test_images2.shape[0], -1)\n",
    "valid_img2 = valid_images2.reshape(valid_images2.shape[0], -1)\n",
    "\n",
    "print(train_img2.shape)\n",
    "print(test_img2.shape)\n",
    "print(valid_img2.shape)\n",
    "\n",
    "\n"
   ]
  },
  {
   "cell_type": "code",
   "execution_count": 7,
   "metadata": {},
   "outputs": [
    {
     "data": {
      "text/plain": [
       "32"
      ]
     },
     "execution_count": 7,
     "metadata": {},
     "output_type": "execute_result"
    }
   ],
   "source": [
    "len(train_labels2)"
   ]
  },
  {
   "cell_type": "code",
   "execution_count": 8,
   "metadata": {},
   "outputs": [
    {
     "name": "stdout",
     "output_type": "stream",
     "text": [
      "(32, 1)\n",
      "(32, 1)\n",
      "(32, 1)\n"
     ]
    }
   ],
   "source": [
    "train_y2 = np.reshape(train_labels2[:,0], (32,1))\n",
    "test_y2 = np.reshape(test_labels2[:,0], (32,1))\n",
    "valid_y2 = np.reshape(valid_labels2[:,0], (32,1))\n",
    "\n",
    "print(train_y2.shape)\n",
    "print(test_y2.shape)\n",
    "print(valid_y2.shape)"
   ]
  },
  {
   "cell_type": "code",
   "execution_count": 9,
   "metadata": {},
   "outputs": [
    {
     "name": "stdout",
     "output_type": "stream",
     "text": [
      "Found 3272 images belonging to 2 classes.\n",
      "Found 1752 images belonging to 2 classes.\n",
      "Found 816 images belonging to 2 classes.\n"
     ]
    }
   ],
   "source": [
    "# get all the data in the directory split/test , and reshape them\n",
    "train_generator = ImageDataGenerator(rescale=1./255).flow_from_directory('re-split_data/train',\n",
    "        target_size=(64, 64), batch_size = train_size) \n",
    "\n",
    "test_generator =ImageDataGenerator(rescale=1./255).flow_from_directory('re-split_data/test',\n",
    "        target_size=(64, 64), batch_size = test_size, shuffle= False) \n",
    "\n",
    "valid_generator =ImageDataGenerator(rescale=1./255).flow_from_directory('re-split_data/validation',\n",
    "        target_size=(64, 64), batch_size = validation_size)"
   ]
  },
  {
   "cell_type": "code",
   "execution_count": 11,
   "metadata": {},
   "outputs": [],
   "source": [
    "# create the data sets\n",
    "train_images, train_labels = next(train_generator)\n",
    "test_images, test_labels = next(test_generator)\n",
    "valid_images, valid_labels = next(valid_generator)"
   ]
  },
  {
   "cell_type": "code",
   "execution_count": 12,
   "metadata": {},
   "outputs": [],
   "source": [
    "def show_images(images):\n",
    "    fig, axes = plt.subplots(1, 10, figsize=(12,12))\n",
    "    axes = axes.flatten()\n",
    "    for img, ax in zip(images, axes):\n",
    "        ax.imshow(img)\n",
    "        ax.axis('off')\n",
    "    plt.tight_layout()\n",
    "    plt.show()"
   ]
  },
  {
   "cell_type": "code",
   "execution_count": 13,
   "metadata": {},
   "outputs": [
    {
     "data": {
      "image/png": "[encoded data removed]",
      "text/plain": [
       "<Figure size 864x864 with 10 Axes>"
      ]
     },
     "metadata": {
      "needs_background": "light"
     },
     "output_type": "display_data"
    }
   ],
   "source": [
    "show_images(train_images)"
   ]
  },
  {
   "cell_type": "code",
   "execution_count": 14,
   "metadata": {},
   "outputs": [
    {
     "name": "stdout",
     "output_type": "stream",
     "text": [
      "(3272, 12288)\n",
      "(1752, 12288)\n",
      "(816, 12288)\n"
     ]
    }
   ],
   "source": [
    "train_img = train_images.reshape(train_images.shape[0], -1)\n",
    "test_img = test_images.reshape(test_images.shape[0], -1)\n",
    "valid_img = valid_images.reshape(valid_images.shape[0], -1)\n",
    "\n",
    "print(train_img.shape)\n",
    "print(test_img.shape)\n",
    "print(valid_img.shape)"
   ]
  },
  {
   "cell_type": "code",
   "execution_count": 15,
   "metadata": {},
   "outputs": [
    {
     "name": "stdout",
     "output_type": "stream",
     "text": [
      "(3272, 1)\n",
      "(1752, 1)\n",
      "(816, 1)\n"
     ]
    }
   ],
   "source": [
    "train_y = np.reshape(train_labels[:,0], (train_size,1))\n",
    "test_y = np.reshape(test_labels[:,0], (test_size,1))\n",
    "valid_y = np.reshape(valid_labels[:,0], (validation_size,1))\n",
    "\n",
    "print(train_y.shape)\n",
    "print(test_y.shape)\n",
    "print(valid_y.shape)"
   ]
  },
  {
   "cell_type": "code",
   "execution_count": 16,
   "metadata": {},
   "outputs": [],
   "source": [
    "vgg16_model = tf.keras.applications.vgg16.VGG16()"
   ]
  },
  {
   "cell_type": "code",
   "execution_count": 17,
   "metadata": {},
   "outputs": [],
   "source": [
    "def plot_confusion_matrix(cm, classes,\n",
    "                          normalize=False,\n",
    "                          title='Confusion matrix',\n",
    "                          cmap=plt.cm.Blues):\n",
    "    \"\"\"\n",
    "    This function prints and plots the confusion matrix.\n",
    "    Normalization can be applied by setting `normalize=True`.\n",
    "    \"\"\"\n",
    "    plt.imshow(cm, interpolation='nearest', cmap=cmap)\n",
    "    plt.title(title)\n",
    "    plt.colorbar()\n",
    "    tick_marks = np.arange(len(classes))\n",
    "    plt.xticks(tick_marks, classes, rotation=45)\n",
    "    plt.yticks(tick_marks, classes)\n",
    "\n",
    "    if normalize:\n",
    "        cm = cm.astype('float') / cm.sum(axis=1)[:, np.newaxis]\n",
    "        print(\"Normalized confusion matrix\")\n",
    "    else:\n",
    "        print('Confusion matrix, without normalization')\n",
    "\n",
    "    print(cm)\n",
    "\n",
    "    thresh = cm.max() / 2.\n",
    "    for i, j in itertools.product(range(cm.shape[0]), range(cm.shape[1])):\n",
    "        plt.text(j, i, cm[i, j],\n",
    "            horizontalalignment=\"center\",\n",
    "            color=\"white\" if cm[i, j] > thresh else \"black\")"
   ]
  },
  {
   "cell_type": "markdown",
   "metadata": {},
   "source": [
    "vgg16_model.summary()"
   ]
  },
  {
   "cell_type": "code",
   "execution_count": 18,
   "metadata": {},
   "outputs": [],
   "source": [
    "# create new model of type sequential, then iterate over each of layers in vgg model (save last),\n",
    "#  add layers to sequential.\n",
    "#model_VGG = Sequential()\n",
    "#for layer in vgg16_model.layers[:-1]:\n",
    "   # model_VGG.add(layer)"
   ]
  },
  {
   "cell_type": "code",
   "execution_count": 19,
   "metadata": {},
   "outputs": [],
   "source": [
    "#for layer in model_VGG.layers:\n",
    "   # layer.trainable = False"
   ]
  },
  {
   "cell_type": "code",
   "execution_count": 20,
   "metadata": {},
   "outputs": [],
   "source": [
    "#model_VGG.add(Dense(units=2, activation='sigmoid'))"
   ]
  },
  {
   "cell_type": "code",
   "execution_count": 21,
   "metadata": {},
   "outputs": [],
   "source": [
    "#model_VGG.compile(optimizer=Adam(learning_rate=0.001), loss='binary_crossentropy', metrics=['accuracy'])\n"
   ]
  },
  {
   "cell_type": "code",
   "execution_count": 22,
   "metadata": {},
   "outputs": [],
   "source": [
    "#vgg_hist = model_VGG.fit(x=train_batches,\n",
    " #                       steps_per_epoch = len(train_batches),\n",
    " #                       validation_data=valid_batches,\n",
    "  #                      validation_steps = len(valid_batches),\n",
    " #                       epochs=7)"
   ]
  },
  {
   "cell_type": "code",
   "execution_count": 23,
   "metadata": {},
   "outputs": [],
   "source": [
    "#os.mkdir('models')"
   ]
  },
  {
   "cell_type": "code",
   "execution_count": 24,
   "metadata": {},
   "outputs": [],
   "source": [
    "#model_VGG.save('models/VGG_model.h5')"
   ]
  },
  {
   "cell_type": "code",
   "execution_count": 25,
   "metadata": {},
   "outputs": [],
   "source": [
    "# load model\n",
    "from tensorflow.keras.models import load_model\n",
    "new_model = load_model('models/VGG_model.h5')"
   ]
  },
  {
   "cell_type": "code",
   "execution_count": 26,
   "metadata": {},
   "outputs": [],
   "source": [
    "model_VGG = new_model"
   ]
  },
  {
   "cell_type": "code",
   "execution_count": 27,
   "metadata": {},
   "outputs": [],
   "source": [
    "#results_train = model_VGG.evaluate(train_images2, train_y2) # DOESNT WORK\n",
    "#results_test = model_VGG.evaluate(test_images, test_y)   # Doesnt WORK"
   ]
  },
  {
   "cell_type": "code",
   "execution_count": 28,
   "metadata": {},
   "outputs": [],
   "source": [
    "test_images, test_labels= next(test_batches)"
   ]
  },
  {
   "cell_type": "code",
   "execution_count": 29,
   "metadata": {},
   "outputs": [],
   "source": [
    "predictions = model_VGG.predict(x=test_batches, steps=len(test_batches), verbose = 0)"
   ]
  },
  {
   "cell_type": "code",
   "execution_count": 30,
   "metadata": {},
   "outputs": [],
   "source": [
    "y_pred = np.argmax(predictions, axis = 1)"
   ]
  },
  {
   "cell_type": "code",
   "execution_count": 31,
   "metadata": {},
   "outputs": [],
   "source": [
    "y_true = test_batches.classes"
   ]
  },
  {
   "cell_type": "code",
   "execution_count": 32,
   "metadata": {},
   "outputs": [
    {
     "data": {
      "text/plain": [
       "array([[ 421,   52],\n",
       "       [  40, 1239]], dtype=int64)"
      ]
     },
     "execution_count": 32,
     "metadata": {},
     "output_type": "execute_result"
    }
   ],
   "source": [
    "# Confusion Matrix\n",
    "cm = confusion_matrix(y_true = y_true, y_pred = y_pred)\n",
    "cm"
   ]
  },
  {
   "cell_type": "code",
   "execution_count": 33,
   "metadata": {},
   "outputs": [
    {
     "name": "stdout",
     "output_type": "stream",
     "text": [
      "Confusion matrix, without normalization\n",
      "[[ 421   52]\n",
      " [  40 1239]]\n"
     ]
    },
    {
     "data": {
      "image/png": "[encoded data removed]",
      "text/plain": [
       "<Figure size 432x288 with 2 Axes>"
      ]
     },
     "metadata": {
      "needs_background": "light"
     },
     "output_type": "display_data"
    }
   ],
   "source": [
    "cm_plot_labels = ['normal','pneumonia']\n",
    "plot_confusion_matrix(cm=cm, classes=cm_plot_labels, title='Confusion Matrix')"
   ]
  }
 ],
 "metadata": {
  "kernelspec": {
   "display_name": "Python 3.9.7 ('base')",
   "language": "python",
   "name": "python3"
  },
  "language_info": {
   "codemirror_mode": {
    "name": "ipython",
    "version": 3
   },
   "file_extension": ".py",
   "mimetype": "text/x-python",
   "name": "python",
   "nbconvert_exporter": "python",
   "pygments_lexer": "ipython3",
   "version": "3.9.7"
  },
  "orig_nbformat": 4,
  "vscode": {
   "interpreter": {
    "hash": "6405dd8549f94b84e26eaa9f1d89f5de150e988f9022df8484d4567d5362723e"
   }
  }
 },
 "nbformat": 4,
 "nbformat_minor": 2
}
